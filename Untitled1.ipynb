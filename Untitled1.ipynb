{
  "cells": [
    {
      "cell_type": "markdown",
      "metadata": {
        "id": "view-in-github",
        "colab_type": "text"
      },
      "source": [
        "<a href=\"https://colab.research.google.com/github/love4589/Colab/blob/main/Untitled1.ipynb\" target=\"_parent\"><img src=\"https://colab.research.google.com/assets/colab-badge.svg\" alt=\"Open In Colab\"/></a>"
      ]
    },
    {
      "cell_type": "code",
      "execution_count": null,
      "metadata": {
        "id": "nZ-33jh3FCMJ"
      },
      "outputs": [],
      "source": [
        "!sudo mkdir /content/drive9\n",
        "!nohup rclone --vfs-cache-mode writes mount drive9: /content/drive9 &"
      ]
    },
    {
      "cell_type": "code",
      "execution_count": null,
      "metadata": {
        "id": "t9pfzncPvZPw"
      },
      "outputs": [],
      "source": [
        "!pip install gallery-dl\n",
        "!pip install manga-py\n",
        "!sudo apt-get install parallel\n",
        "!parallel --citation\n",
        "!pip install youtube-dl"
      ]
    },
    {
      "cell_type": "code",
      "execution_count": null,
      "metadata": {
        "id": "vh7kqjVysmBb"
      },
      "outputs": [],
      "source": [
        "#57389130202-rvs8v7b9921q7nuld6e02e3k07tfbcqi.apps.googleusercontent.com\n",
        "#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\n",
        "#{\"access_token\":\"sl.A6mmtep3L41dIKA7CBLBsFqMQkcxYtI6jzxGFMeyiZl9zbWi_56SWVj72I-55a6vGEHQyNCKS4TtfgpjSo7dMJoZXmII1dXwZRKBIWB5HSQvuMEGApkNxEVTH_D3flFky71F4s5w\",\"token_type\":\"bearer\",\"refresh_token\":\"fuQ5uGPAkgoAAAAAAAAAATHc1zjejcCD45aSEyB3rOp5lS0rMC8JD4o3dKKYYp5_\",\"expiry\":\"2021-10-19T01:59:39.9674792+05:30\"}\n",
        "!curl https://rclone.org/install.sh | sudo bash\n",
        "!rclone config\n",
        "#4/1AX4XfWgZipFpUFj1PBWfjVdmFT6npgKkgZMLNTsnwcAxgR-f7KLFfETKdaA\n",
        "#function ConnectButton(){console.log(\"Connect pushed\"); document.querySelector(\"#top-toolbar > colab-connectbutton\").shadowRoot.querySelector(\"#connect\").click()}setInterval(ConnectButton,60000);"
      ]
    },
    {
      "cell_type": "code",
      "execution_count": null,
      "metadata": {
        "id": "Ie1yVPnW5ISW"
      },
      "outputs": [],
      "source": [
        "\n",
        "i=74000\n",
        "while i < 100000:\n",
        "  print('!seq ' +str(i) +' '+str(i+1500) + '| parallel -j 50 -k gallery-dl -R 10 -q --filesize-max 1M -d  /content/ --zip https://nhentai.net/g/{}/;cd /content/nhentai; mv *.zip /content/drive/Shareddrives/drive2/folder/nhentai050-100;')\n",
        "  i=i+1500\n"
      ]
    },
    {
      "cell_type": "code",
      "execution_count": null,
      "metadata": {
        "id": "g6bbAoXresXQ"
      },
      "outputs": [],
      "source": [
        "s = set()\n",
        "with open('/content/a.txt') as f:\n",
        "  for line in f:\n",
        "    if 'Failed to download nhentai' in line.strip():\n",
        "      s.add((line.strip().split('_'))[1])\n",
        "print(s)\n",
        "for i in s:\n",
        "    print(f'!gallery-dl -R 10 -q --filesize-max 1M -d  /content/ --zip https://nhentai.net/g/{i}/')\n",
        "print('!cd /content/nhentai') \n",
        "print('!mv -f *.zip /content/drive/Shareddrives/drive2/folder/nhentai000-050')"
      ]
    },
    {
      "cell_type": "code",
      "source": [
        "!pip install gallery-dl\n",
        "!sudo apt-get install parallel\n",
        "!parallel --citation\n",
        "!seq 83000 84500| parallel -j 50 -k gallery-dl -R 10 -q --filesize-max 1M -d  /content/ --zip https://nhentai.net/g/{}/;"
      ],
      "metadata": {
        "id": "sVH2_JXlRJDc"
      },
      "execution_count": null,
      "outputs": []
    },
    {
      "cell_type": "code",
      "execution_count": null,
      "metadata": {
        "id": "SEmiAOMh0NP8"
      },
      "outputs": [],
      "source": [
        "%cd /content/drive/Shareddrives/drive1/folder/xhamster/XTimeVod\n",
        "\n",
        "!ls |wc -l\n",
        "!du -a -h --max-depth=1 | sort -hr"
      ]
    },
    {
      "cell_type": "code",
      "execution_count": null,
      "metadata": {
        "id": "XFP8mFRy6sL-"
      },
      "outputs": [],
      "source": [
        "!cp /root/.config/rclone/rclone.conf /content/rclone.conf"
      ]
    },
    {
      "cell_type": "code",
      "execution_count": null,
      "metadata": {
        "id": "X2RGdK91eUDU"
      },
      "outputs": [],
      "source": [
        "!sudo apt-get install jq\n",
        "!sudo apt install openssl\n",
        "%cd /content/\n",
        "!wget https://github.com/junegunn/fzf/releases/download/0.29.0/fzf-0.29.0-linux_amd64.tar.gz\n",
        "!tar -xf /content/fzf-0.29.0-linux_amd64.tar.gz\n",
        "!rm /content/fzf-0.29.0-linux_amd64.tar.gz\n",
        "!mv /content/fzf /bin/"
      ]
    },
    {
      "cell_type": "code",
      "execution_count": null,
      "metadata": {
        "id": "h7q6eQbTmL_2"
      },
      "outputs": [],
      "source": [
        "%cd /content/\n",
        "!git clone https://github.com/KevCui/animepahe-dl\n",
        "%cd animepahe-dl/"
      ]
    },
    {
      "cell_type": "code",
      "execution_count": null,
      "metadata": {
        "id": "KBuNVtBjmNQO"
      },
      "outputs": [],
      "source": [
        "!bash animepahe-dl.sh -d"
      ]
    },
    {
      "cell_type": "code",
      "execution_count": null,
      "metadata": {
        "id": "WKtDDYp4Dcdi"
      },
      "outputs": [],
      "source": [
        "%cd /content/animepahe-dl/\n",
        "!rm /content/animepahe-dl/README.md\n",
        "!rm /content/animepahe-dl/LICENSE\n",
        "!mv /content/animepahe-dl/animepahe-dl.sh /content/animepahe-dl.sh\n",
        "!mv /content/animepahe-dl/anime.list /content/anime.list\n",
        "\n",
        "!rclone move --drive-chunk-size 32M /content/animepahe-dl drive:folder/Animepahe/1COMPLETE"
      ]
    },
    {
      "cell_type": "code",
      "source": [
        "!sudo apt-get install parallel\n",
        "!pip install youtube-dl\n",
        "!sudo apt-get install aria2\n",
        "!mkdir asd"
      ],
      "metadata": {
        "id": "ylAy0IxSKpc5"
      },
      "execution_count": null,
      "outputs": []
    },
    {
      "cell_type": "code",
      "source": [
        "fb = open('/content/run.txt', 'w')\n",
        "i = 1\n",
        "u = 80\n",
        "st = 'youtube-dl -i --external-downloader aria2c --external-downloader-args \"-q -j 16 -x 16 -s 16 -k 1M\" -f \"mp4-480p-0/mp4-480p-1/mp4-720p-0/mp4-720p-1/mp4-240p-0\" '\n",
        "with open('/content/url.txt', 'r') as f:\n",
        "  for line in f:\n",
        "    if i > u:\n",
        "      fb.write(st + line.strip() + '\\n')\n",
        "    if i == u+80:\n",
        "      break\n",
        "    i += 1\n",
        "fb.close()\n",
        "print(i)"
      ],
      "metadata": {
        "id": "5jc5J0USNNac"
      },
      "execution_count": null,
      "outputs": []
    },
    {
      "cell_type": "code",
      "source": [
        "%cd /content/asd\n",
        "!ls | wc -l"
      ],
      "metadata": {
        "id": "2ESg6agq0lxs"
      },
      "execution_count": null,
      "outputs": []
    },
    {
      "cell_type": "code",
      "source": [
        "%cd /content/asd\n",
        "!mkdir /content/drive/Shareddrives/drive1/folder/xhamster/XTimeVod\n",
        "!mv -f *.mp4 /content/drive/Shareddrives/drive1/folder/xhamster/XTimeVod\n",
        "%cd /content/drive/Shareddrives/drive1/folder/xhamster/XTimeVod\n",
        "!ls | wc -l\n",
        "%cd /content/asd"
      ],
      "metadata": {
        "id": "n3Od4wZpOrkc"
      },
      "execution_count": null,
      "outputs": []
    },
    {
      "cell_type": "code",
      "source": [
        "%cd /content/asd\n",
        "!parallel -j 10 -k --progress < /content/run.txt"
      ],
      "metadata": {
        "id": "CEHOcXoaK8dJ"
      },
      "execution_count": null,
      "outputs": []
    }
  ],
  "metadata": {
    "colab": {
      "collapsed_sections": [],
      "name": "Untitled1.ipynb",
      "provenance": [],
      "private_outputs": true,
      "mount_file_id": "1s-fI1jCZH198u7dHgS-wjtOxlmeK73Zn",
      "authorship_tag": "ABX9TyO+A1SYaxlYVBRyCP+68EaS",
      "include_colab_link": true
    },
    "kernelspec": {
      "display_name": "Python 3",
      "name": "python3"
    },
    "language_info": {
      "name": "python"
    }
  },
  "nbformat": 4,
  "nbformat_minor": 0
}